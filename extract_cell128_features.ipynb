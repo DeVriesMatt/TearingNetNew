version https://git-lfs.github.com/spec/v1
oid sha256:97751c4fce473204f55580c2ca803562a890acfdbc6796b225e3338d6e0e9865
size 108676042
